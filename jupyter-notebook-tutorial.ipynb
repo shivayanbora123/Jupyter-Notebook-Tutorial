{
 "cells": [
  {
   "cell_type": "code",
   "execution_count": 1,
   "metadata": {},
   "outputs": [
    {
     "name": "stdout",
     "output_type": "stream",
     "text": [
      "Hello World!\n"
     ]
    }
   ],
   "source": [
    "print(\"Hello World!\")"
   ]
  },
  {
   "cell_type": "code",
   "execution_count": 2,
   "metadata": {},
   "outputs": [],
   "source": [
    "import time\n",
    "time.sleep(3)"
   ]
  },
  {
   "cell_type": "code",
   "execution_count": 3,
   "metadata": {},
   "outputs": [
    {
     "data": {
      "text/plain": [
       "'Hello, Tim!'"
      ]
     },
     "execution_count": 3,
     "metadata": {},
     "output_type": "execute_result"
    }
   ],
   "source": [
    "def say_hello(recipient):\n",
    "    return 'Hello, {}!'.format(recipient)\n",
    "\n",
    "say_hello('Tim')"
   ]
  },
  {
   "cell_type": "markdown",
   "metadata": {},
   "source": [
    "# This is a level 1 heading\n",
    "## This is a level 2 heading\n",
    "This is some plain text that forms a paragraph.\n",
    "Add emphasis via **bold** and __bold__, or *italic* and _italic_.\n",
    "\n",
    "Paragraphs must be separated by an empty line.\n",
    "\n",
    "* Sometimes we want to include lists.\n",
    "    * Which can be indented.\n",
    "\n",
    "1. Lists can also be numbered.\n",
    "2. For ordered lists.\n",
    "\n",
    "[It is possible to include hyperlinks](https://www.google.com)\n",
    "\n",
    "Inline code uses single backticks: `foo()`, and code blocks use tripe backticks:\n",
    "\n",
    "```\n",
    "bar()\n",
    "```\n",
    "\n",
    "Or can be indented by 4 spaces:\n",
    "\n",
    "    foo()\n",
    "\n",
    "And finally, adding images is easy: ![Alt text](https://www.example.com/image.jpg)"
   ]
  },
  {
   "cell_type": "code",
   "execution_count": 4,
   "metadata": {},
   "outputs": [],
   "source": [
    "import numpy as np\n",
    "\n",
    "def square(x):\n",
    "    return x ** 2"
   ]
  },
  {
   "cell_type": "code",
   "execution_count": 5,
   "metadata": {},
   "outputs": [
    {
     "name": "stdout",
     "output_type": "stream",
     "text": [
      "6 squared is 36\n"
     ]
    }
   ],
   "source": [
    "x = np.random.randint(1,10)\n",
    "y = square(x)\n",
    "\n",
    "print(\"{} squared is {}\".format(x,y))"
   ]
  },
  {
   "cell_type": "code",
   "execution_count": 6,
   "metadata": {},
   "outputs": [
    {
     "name": "stdout",
     "output_type": "stream",
     "text": [
      "Is 6 squared 36?\n"
     ]
    }
   ],
   "source": [
    "print(\"Is {} squared {}?\".format(x,y))"
   ]
  },
  {
   "cell_type": "code",
   "execution_count": 7,
   "metadata": {},
   "outputs": [],
   "source": [
    "y = 10"
   ]
  },
  {
   "cell_type": "code",
   "execution_count": 8,
   "metadata": {},
   "outputs": [
    {
     "name": "stdout",
     "output_type": "stream",
     "text": [
      "Is 6 squared 10?\n"
     ]
    }
   ],
   "source": [
    "print(\"Is {} squared {}?\".format(x,y))"
   ]
  }
 ],
 "metadata": {
  "kernelspec": {
   "display_name": "Python 3",
   "language": "python",
   "name": "python3"
  },
  "language_info": {
   "codemirror_mode": {
    "name": "ipython",
    "version": 3
   },
   "file_extension": ".py",
   "mimetype": "text/x-python",
   "name": "python",
   "nbconvert_exporter": "python",
   "pygments_lexer": "ipython3",
   "version": "3.6.4"
  }
 },
 "nbformat": 4,
 "nbformat_minor": 2
}
